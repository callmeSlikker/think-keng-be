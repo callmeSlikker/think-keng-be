{
 "cells": [
  {
   "cell_type": "markdown",
   "metadata": {},
   "source": [
    "\n",
    "1. Load AI model"
   ]
  },
  {
   "cell_type": "code",
   "execution_count": null,
   "metadata": {},
   "outputs": [],
   "source": [
    "from keras.models import load_model\n",
    "from PIL import Image, ImageOps\n",
    "import numpy as np\n",
    "np.set_printoptions(suppress=True)\n",
    "model = load_model(\"./keras_model.h5\", compile=False)\n",
    "class_names = open(\"./labels.txt\", \"r\").readlines()\n",
    "data = np.ndarray(shape=(1, 224, 224, 3), dtype=np.float32)"
   ]
  },
  {
   "cell_type": "markdown",
   "metadata": {},
   "source": [
    "2. Create API"
   ]
  },
  {
   "cell_type": "code",
   "execution_count": null,
   "metadata": {},
   "outputs": [],
   "source": [
    "from flask import Flask, request, jsonify, send_file\n",
    "from io import BytesIO\n",
    "from PIL import Image, ImageOps\n",
    "import numpy as np\n",
    "\n",
    "# Initialize Flask app\n",
    "app = Flask(__name__)\n",
    "\n",
    "# Assuming the model and class names are already loaded\n",
    "# `model` is your Keras model, and `class_names` contains the labels\n",
    "\n",
    "# Define the prediction route\n",
    "@app.route('/predict', methods=['POST'])\n",
    "def predict():\n",
    "    if 'image' not in request.files:\n",
    "        return jsonify({\"error\": \"No image provided\"}), 400\n",
    "    \n",
    "    file = request.files['image']\n",
    "\n",
    "    if file.filename == '' or not file:\n",
    "        return jsonify({\"error\": \"File name is empty. Please upload a valid image file.\"}), 400\n",
    "        \n",
    "    details = {\n",
    "        \"general\": {\n",
    "            \"imageUrl\": \"general\",\n",
    "            \"description\": \"general\",\n",
    "        },\n",
    "        \"foodwaste\": {\n",
    "            \"imageUrl\": \"foodwaste\",\n",
    "            \"description\": \"foodwaste\",\n",
    "        },\n",
    "        \"hazardous\": {\n",
    "            \"imageUrl\": \"hazardous\",\n",
    "            \"description\": \"hazardous\",\n",
    "        },\n",
    "        \"recycle\": {\n",
    "            \"imageUrl\": \"recycle\",\n",
    "            \"description\": \"recycle\",\n",
    "        },\n",
    "    }\n",
    "\n",
    "    img = Image.open(file)\n",
    "    img = img.convert(\"RGB\")\n",
    "    \n",
    "    # Resize and preprocess the image as required by the model\n",
    "    img = ImageOps.fit(img, (224, 224), Image.Resampling.LANCZOS)\n",
    "    img_array = np.asarray(img)\n",
    "    normalized_image_array = (img_array.astype(np.float32) / 127.5) - 1  # Normalization\n",
    "    \n",
    "    # Model expects an input of shape (1, 224, 224, 3)\n",
    "    data = np.expand_dims(normalized_image_array, axis=0)\n",
    "    \n",
    "    # Run the model prediction\n",
    "    prediction = model.predict(data)\n",
    "    \n",
    "    # Get the predicted class name\n",
    "    predicted_class = class_names[np.argmax(prediction[0])].strip()\n",
    "    \n",
    "    # Convert the image to a byte stream for sending back\n",
    "    img_io = BytesIO()\n",
    "    img.save(img_io, 'PNG')\n",
    "    img_io.seek(0)\n",
    "    \n",
    "    # Send back the prediction and image\n",
    "    return jsonify({\n",
    "        \"type\": predictedType,\n",
    "        \"imageUrl\": details[predictedType][\"imageUrl\"],  # Correct access method\n",
    "        \"description\": details[predictedType][\"description\"],  # Correct access method\n",
    "    }), 200\n",
    "\n",
    "# Start the Flask server\n",
    "if __name__ == '__main__':\n",
    "    app.run(port=3000)"
   ]
  }
 ],
 "metadata": {
  "language_info": {
   "name": "python"
  }
 },
 "nbformat": 4,
 "nbformat_minor": 2
}
